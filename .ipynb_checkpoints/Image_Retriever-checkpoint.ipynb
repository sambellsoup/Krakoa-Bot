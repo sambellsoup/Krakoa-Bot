{
 "cells": [
  {
   "cell_type": "code",
   "execution_count": 3,
   "metadata": {},
   "outputs": [],
   "source": [
    "import requests\n",
    "\n",
    "with open('pic1.jpg', 'wb') as handle:\n",
    "    pic_url = 'https://twitter.com/schwarm/photo'\n",
    "    response = requests.get(pic_url, stream=True)\n",
    "\n",
    "    if not response.ok:\n",
    "        print(response)\n",
    "\n",
    "    for block in response.iter_content(1024):\n",
    "        if not block:\n",
    "            break\n",
    "\n",
    "        handle.write(block)"
   ]
  },
  {
   "cell_type": "code",
   "execution_count": 4,
   "metadata": {},
   "outputs": [
    {
     "data": {
      "text/plain": [
       "('00000001.jpg', <http.client.HTTPMessage at 0x2b515cb28c8>)"
      ]
     },
     "execution_count": 4,
     "metadata": {},
     "output_type": "execute_result"
    }
   ],
   "source": [
    "import urllib.request\n",
    "urllib.request.urlretrieve(\"https://twitter.com/schwarm/photo\", \"00000001.jpg\")"
   ]
  },
  {
   "cell_type": "code",
   "execution_count": 6,
   "metadata": {},
   "outputs": [
    {
     "data": {
      "text/plain": [
       "('local-filename.jpg', <http.client.HTTPMessage at 0x2b516d811c8>)"
      ]
     },
     "execution_count": 6,
     "metadata": {},
     "output_type": "execute_result"
    }
   ],
   "source": [
    "import urllib.request\n",
    "\n",
    "urllib.request.urlretrieve(\"https://twitter.com/schwarm/photo\", \"local-filename.jpg\")"
   ]
  },
  {
   "cell_type": "code",
   "execution_count": 14,
   "metadata": {},
   "outputs": [],
   "source": [
    "\n",
    "from bs4 import BeautifulSoup\n",
    "try:\n",
    "    import urllib.request as urllib2\n",
    "except ImportError:\n",
    "    import urllib2\n",
    "import urllib\n",
    "\n",
    "from urllib.request import urlopen\n",
    "\n",
    "# use this image scraper from the location that \n",
    "#you want to save scraped images to\n",
    "\n",
    "def make_soup(url):\n",
    "\thtml = urlopen(url).read()\n",
    "\treturn BeautifulSoup(html)\n",
    "\n",
    "def get_images(url):\n",
    "\tsoup = make_soup(url)\n",
    "\t#this makes a list of bs4 element tags\n",
    "\timages = [img for img in soup.findAll('img')]\n",
    "\tprint (str(len(images)) + \" images found.\")\n",
    "\tprint('Downloading images to current working directory.')\n",
    "\t#compile our unicode list of image links\n",
    "\timage_links = [each.get('src') for each in images]\n",
    "\tfor each in image_links:\n",
    "\t\tfilename=each.split('/')[-1]\n",
    "\t\turllib.urlretrieve(each, filename)\n",
    "\treturn image_links"
   ]
  },
  {
   "cell_type": "code",
   "execution_count": 15,
   "metadata": {},
   "outputs": [
    {
     "name": "stdout",
     "output_type": "stream",
     "text": [
      "0 images found.\n",
      "Downloading images to current working directory.\n"
     ]
    },
    {
     "data": {
      "text/plain": [
       "[]"
      ]
     },
     "execution_count": 15,
     "metadata": {},
     "output_type": "execute_result"
    }
   ],
   "source": [
    "get_images('https://twitter.com/schwarm/photo')"
   ]
  },
  {
   "cell_type": "code",
   "execution_count": 18,
   "metadata": {},
   "outputs": [
    {
     "name": "stdout",
     "output_type": "stream",
     "text": [
      "Image sucessfully Downloaded:  photo\n"
     ]
    }
   ],
   "source": [
    "import requests # to get image from the web\n",
    "import shutil # to save it locally\n",
    "\n",
    "## Set up the image URL and filename\n",
    "image_url = \"https://twitter.com/schwarm/photo\"\n",
    "filename = image_url.split(\"/\")[-1]\n",
    "\n",
    "# Open the url image, set stream to True, this will return the stream content.\n",
    "r = requests.get(image_url, stream = True)\n",
    "\n",
    "# Check if the image was retrieved successfully\n",
    "if r.status_code == 200:\n",
    "    # Set decode_content value to True, otherwise the downloaded image file's size will be zero.\n",
    "    r.raw.decode_content = True\n",
    "    \n",
    "    # Open a local file with wb ( write binary ) permission.\n",
    "    with open(filename,'wb') as f:\n",
    "        shutil.copyfileobj(r.raw, f)\n",
    "        \n",
    "    print('Image sucessfully Downloaded: ',filename)\n",
    "else:\n",
    "    print('Image Couldn\\'t be retreived')"
   ]
  },
  {
   "cell_type": "code",
   "execution_count": 21,
   "metadata": {},
   "outputs": [
    {
     "name": "stdout",
     "output_type": "stream",
     "text": [
      "Collecting twitter-photos\n",
      "  Downloading twitter-photos-0.4.0.tar.gz (82 kB)\n",
      "Collecting python-twitter\n",
      "  Downloading python_twitter-3.5-py2.py3-none-any.whl (67 kB)\n",
      "Requirement already satisfied: requests in c:\\users\\sambe\\anaconda3\\lib\\site-packages (from twitter-photos) (2.22.0)\n",
      "Requirement already satisfied: urllib3 in c:\\users\\sambe\\anaconda3\\lib\\site-packages (from twitter-photos) (1.25.8)\n",
      "Requirement already satisfied: requests-oauthlib in c:\\users\\sambe\\anaconda3\\lib\\site-packages (from python-twitter->twitter-photos) (1.3.0)\n",
      "Requirement already satisfied: future in c:\\users\\sambe\\anaconda3\\lib\\site-packages (from python-twitter->twitter-photos) (0.18.2)\n",
      "Requirement already satisfied: certifi>=2017.4.17 in c:\\users\\sambe\\anaconda3\\lib\\site-packages (from requests->twitter-photos) (2019.11.28)\n",
      "Requirement already satisfied: idna<2.9,>=2.5 in c:\\users\\sambe\\anaconda3\\lib\\site-packages (from requests->twitter-photos) (2.8)\n",
      "Requirement already satisfied: chardet<3.1.0,>=3.0.2 in c:\\users\\sambe\\anaconda3\\lib\\site-packages (from requests->twitter-photos) (3.0.4)\n",
      "Requirement already satisfied: oauthlib>=3.0.0 in c:\\users\\sambe\\anaconda3\\lib\\site-packages (from requests-oauthlib->python-twitter->twitter-photos) (3.1.0)\n",
      "Building wheels for collected packages: twitter-photos\n",
      "  Building wheel for twitter-photos (setup.py): started\n",
      "  Building wheel for twitter-photos (setup.py): finished with status 'done'\n",
      "  Created wheel for twitter-photos: filename=twitter_photos-0.4.0-py3-none-any.whl size=11173 sha256=ff7384f3cd878cda99266c17ef88d8f4ee04f8a21d09d18c6197612c8fafdb9c\n",
      "  Stored in directory: c:\\users\\sambe\\appdata\\local\\pip\\cache\\wheels\\69\\fa\\e5\\5dddfeb03f63f62c3f2665a24e879f3ea71424fc576c8fa6d3\n",
      "Successfully built twitter-photos\n",
      "Installing collected packages: python-twitter, twitter-photos\n",
      "Successfully installed python-twitter-3.5 twitter-photos-0.4.0\n"
     ]
    }
   ],
   "source": [
    "!pip install twitter-photos"
   ]
  },
  {
   "cell_type": "code",
   "execution_count": 24,
   "metadata": {},
   "outputs": [
    {
     "name": "stdout",
     "output_type": "stream",
     "text": [
      "Collecting wget\n",
      "  Downloading wget-3.2.zip (10 kB)\n",
      "Building wheels for collected packages: wget\n",
      "  Building wheel for wget (setup.py): started\n",
      "  Building wheel for wget (setup.py): finished with status 'done'\n",
      "  Created wheel for wget: filename=wget-3.2-py3-none-any.whl size=9686 sha256=9ec9b0d30e817e13e18d4798f62c55e976c22a9e9049930cc3861ff7298398f0\n",
      "  Stored in directory: c:\\users\\sambe\\appdata\\local\\pip\\cache\\wheels\\a1\\b6\\7c\\0e63e34eb06634181c63adacca38b79ff8f35c37e3c13e3c02\n",
      "Successfully built wget\n",
      "Installing collected packages: wget\n",
      "Successfully installed wget-3.2\n"
     ]
    }
   ],
   "source": [
    "!pip install wget"
   ]
  },
  {
   "cell_type": "code",
   "execution_count": 25,
   "metadata": {},
   "outputs": [],
   "source": [
    "import wget"
   ]
  },
  {
   "cell_type": "code",
   "execution_count": 27,
   "metadata": {},
   "outputs": [
    {
     "name": "stdout",
     "output_type": "stream",
     "text": [
      "\r",
      "-1 / unknown\r",
      "-1 / unknown\r",
      "-1 / unknown\r",
      "-1 / unknown\r",
      "-1 / unknown\r",
      "-1 / unknown"
     ]
    },
    {
     "data": {
      "text/plain": [
       "'photo'"
      ]
     },
     "execution_count": 27,
     "metadata": {},
     "output_type": "execute_result"
    }
   ],
   "source": [
    "wget.download('https://twitter.com/schwarm/photo')"
   ]
  },
  {
   "cell_type": "code",
   "execution_count": null,
   "metadata": {},
   "outputs": [],
   "source": []
  }
 ],
 "metadata": {
  "kernelspec": {
   "display_name": "Python 3",
   "language": "python",
   "name": "python3"
  },
  "language_info": {
   "codemirror_mode": {
    "name": "ipython",
    "version": 3
   },
   "file_extension": ".py",
   "mimetype": "text/x-python",
   "name": "python",
   "nbconvert_exporter": "python",
   "pygments_lexer": "ipython3",
   "version": "3.7.6"
  }
 },
 "nbformat": 4,
 "nbformat_minor": 4
}
