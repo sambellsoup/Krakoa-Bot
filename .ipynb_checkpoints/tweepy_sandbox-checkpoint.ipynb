{
 "cells": [
  {
   "cell_type": "markdown",
   "metadata": {},
   "source": [
    "# This software will:\n",
    "    * Retweet any tweet\n",
    "    * Schedule a new tweet\n",
    "    * Edit a scheduled tweet\n",
    "    "
   ]
  },
  {
   "cell_type": "code",
   "execution_count": 8,
   "metadata": {},
   "outputs": [],
   "source": [
    "import config\n",
    "\n",
    "consumer_key = config.consumer_key\n",
    "consumer_secret = config.consumer_secret\n",
    "access_token = config.access_token\n",
    "access_token_secret = config.access_token_secret\n",
    "\n",
    "# config.username\n",
    "# config.password\n",
    "\n",
    "# Import Tweepy\n",
    "import tweepy\n",
    "\n",
    "import logging\n",
    "import os\n",
    "import pickle\n",
    "import re\n",
    "\n",
    "logger = logging.getLogger()\n",
    "\n",
    "def create_api():\n",
    "\n",
    "\n",
    "# Set Authentication Credentials\n",
    "    auth = tweepy.OAuthHandler(consumer_key, consumer_secret)\n",
    "    auth.set_access_token(access_token, access_token_secret)\n",
    "\n",
    "# Create API object\n",
    "    api = tweepy.API(auth, wait_on_rate_limit=True,\n",
    "                        wait_on_rate_limit_notify=True)\n",
    "\n",
    "# Create API Object\n",
    "    api = tweepy.API(auth)\n",
    "\n",
    "    try:\n",
    "        api.verify_credentials()\n",
    "        print(\"Authentication OK\")\n",
    "    except Exception as e:\n",
    "        logger.err0r(\"Error creating API\", exc_info=True)\n",
    "        raise e\n",
    "#         print(\"Error during authentication\")\n",
    "    logger.info(\"API created\")\n",
    "    return api"
   ]
  },
  {
   "cell_type": "code",
   "execution_count": 7,
   "metadata": {},
   "outputs": [
    {
     "name": "stdout",
     "output_type": "stream",
     "text": [
      "Authentication OK\n"
     ]
    },
    {
     "data": {
      "text/plain": [
       "<tweepy.api.API at 0x27868c429c8>"
      ]
     },
     "execution_count": 7,
     "metadata": {},
     "output_type": "execute_result"
    }
   ],
   "source": [
    "create_api()"
   ]
  },
  {
   "cell_type": "code",
   "execution_count": null,
   "metadata": {},
   "outputs": [],
   "source": [
    "def retweet():\n",
    "    url = str(input(\"Please enter the url of the tweet you would like retweeted.\"))\n",
    "    id = re.compile('\\d{19}$')\n",
    "    id = id.match(url)\n",
    "    api.retweet(id)\n",
    "    print('Your tweet has been successfully retweeted!')\n",
    "\n",
    "retweet()\n",
    "\n",
    "    \n",
    "#    schedule post time\n",
    "#  edit post time (delete scheduled post and create new scheduled tweet)"
   ]
  },
  {
   "cell_type": "code",
   "execution_count": null,
   "metadata": {},
   "outputs": [],
   "source": [
    "def tweet():\n",
    "    "
   ]
  }
 ],
 "metadata": {
  "kernelspec": {
   "display_name": "Python 3",
   "language": "python",
   "name": "python3"
  },
  "language_info": {
   "codemirror_mode": {
    "name": "ipython",
    "version": 3
   },
   "file_extension": ".py",
   "mimetype": "text/x-python",
   "name": "python",
   "nbconvert_exporter": "python",
   "pygments_lexer": "ipython3",
   "version": "3.7.6"
  }
 },
 "nbformat": 4,
 "nbformat_minor": 4
}
