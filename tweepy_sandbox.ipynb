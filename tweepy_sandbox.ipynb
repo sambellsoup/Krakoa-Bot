{
 "cells": [
  {
   "cell_type": "markdown",
   "metadata": {},
   "source": [
    "# This software will:\n",
    "    * Retweet any tweet\n",
    "    * Schedule a new tweet\n",
    "    * Edit a scheduled tweet\n",
    "    "
   ]
  },
  {
   "cell_type": "code",
   "execution_count": 1,
   "metadata": {},
   "outputs": [],
   "source": [
    "import config\n",
    "\n",
    "consumer_key = config.consumer_key\n",
    "consumer_secret = config.consumer_secret\n",
    "access_token = config.access_token\n",
    "access_token_secret = config.access_token_secret\n",
    "\n",
    "# config.username\n",
    "# config.password\n",
    "\n",
    "from outboard_scrape import rand_user_agent\n",
    "\n",
    "# Internets navigation\n",
    "# from urllib.request import Request, urlopen\n",
    "\n",
    "# Scraping tool\n",
    "from bs4 import BeautifulSoup\n",
    "\n",
    "# Import Tweepy\n",
    "import tweepy\n",
    "\n",
    "import logging\n",
    "import os\n",
    "import pandas as pd\n",
    "import pickle\n",
    "import re\n",
    "import time\n",
    "import requests\n"
   ]
  },
  {
   "cell_type": "code",
   "execution_count": 43,
   "metadata": {},
   "outputs": [
    {
     "name": "stdout",
     "output_type": "stream",
     "text": [
      "Authentication OK\n"
     ]
    },
    {
     "data": {
      "text/plain": [
       "<tweepy.api.API at 0x2a33cc10c88>"
      ]
     },
     "execution_count": 43,
     "metadata": {},
     "output_type": "execute_result"
    }
   ],
   "source": [
    "\n",
    "logger = logging.getLogger()\n",
    "\n",
    "def create_api():\n",
    "\n",
    "\n",
    "# Set Authentication Credentials\n",
    "    auth = tweepy.OAuthHandler(consumer_key, consumer_secret)\n",
    "    auth.set_access_token(access_token, access_token_secret)\n",
    "\n",
    "# Create API object\n",
    "    api = tweepy.API(auth, wait_on_rate_limit=True,\n",
    "                        wait_on_rate_limit_notify=True)\n",
    "\n",
    "# Create API Object\n",
    "    api = tweepy.API(auth)\n",
    "\n",
    "    try:\n",
    "        api.verify_credentials()\n",
    "        print(\"Authentication OK\")\n",
    "    except Exception as e:\n",
    "        logger.err0r(\"Error creating API\", exc_info=True)\n",
    "        raise e\n",
    "#         print(\"Error during authentication\")\n",
    "    logger.info(\"API created\")\n",
    "    return api\n",
    "\n",
    "create_api()"
   ]
  },
  {
   "cell_type": "code",
   "execution_count": 22,
   "metadata": {},
   "outputs": [
    {
     "data": {
      "text/plain": [
       "'1268958023277518851'"
      ]
     },
     "execution_count": 22,
     "metadata": {},
     "output_type": "execute_result"
    }
   ],
   "source": [
    "# url = str(input(\"Please enter the url of the tweet you would like retweeted.\"))\n",
    "url = 'https://twitter.com/KrakoaWelcomes/status/1268958023277518851'\n",
    "id = re.findall(r'\\d{19}$', url)\n",
    "id[0]"
   ]
  },
  {
   "cell_type": "code",
   "execution_count": 23,
   "metadata": {
    "scrolled": true
   },
   "outputs": [
    {
     "name": "stdout",
     "output_type": "stream",
     "text": [
      "Please enter the url of the tweet you would like retweeted.https://twitter.com/KrakoaWelcomes/status/1268958023277518851\n",
      "Your tweet has been successfully retweeted!\n"
     ]
    }
   ],
   "source": [
    "def retweet():\n",
    "    \n",
    "    # Set Authentication Credentials\n",
    "    auth = tweepy.OAuthHandler(consumer_key, consumer_secret)\n",
    "    auth.set_access_token(access_token, access_token_secret)\n",
    "\n",
    "# Create API object\n",
    "    api = tweepy.API(auth, wait_on_rate_limit=True,\n",
    "                        wait_on_rate_limit_notify=True)\n",
    "    api = tweepy.API(auth)\n",
    "    url = str(input(\"Please enter the url of the tweet you would like retweeted.\"))\n",
    "    id = re.findall(r'\\d{19}$', url)\n",
    "    api.retweet(id[0])\n",
    "    print('Your tweet has been successfully retweeted!')\n",
    "\n",
    "retweet()\n",
    "    \n",
    "#    schedule post time\n",
    "#  edit post time (delete scheduled post and create new scheduled tweet)"
   ]
  },
  {
   "cell_type": "code",
   "execution_count": 13,
   "metadata": {},
   "outputs": [
    {
     "name": "stderr",
     "output_type": "stream",
     "text": [
      "Rate limit reached. Sleeping for: 483\n",
      "Rate limit reached. Sleeping for: 591\n",
      "Rate limit reached. Sleeping for: 590\n",
      "Rate limit reached. Sleeping for: 591\n",
      "Rate limit reached. Sleeping for: 591\n"
     ]
    }
   ],
   "source": [
    "# Collect the usernames of all followers\n",
    "api = tweepy.API(auth, wait_on_rate_limit=True, wait_on_rate_limit_notify=True)\n",
    "\n",
    "\n",
    "my_followers = []\n",
    "for follower in tweepy.Cursor(api.followers, screen_name='KrakoaWelcomes').items():\n",
    "    my_followers.append(follower.screen_name)\n",
    "    time.sleep(1)"
   ]
  },
  {
   "cell_type": "markdown",
   "metadata": {},
   "source": [
    "## With the list of usernames:\n",
    "## 1. plug it into the photo url \n",
    "## 2. scrape the actual file url from html code \n",
    "## 3. download the photo from the file url"
   ]
  },
  {
   "cell_type": "code",
   "execution_count": 20,
   "metadata": {},
   "outputs": [],
   "source": [
    "my_followers.to_csv('krakoa_followers.csv')"
   ]
  },
  {
   "cell_type": "code",
   "execution_count": 23,
   "metadata": {},
   "outputs": [],
   "source": [
    "my_followers = pd.read_csv('krakoa_followers.csv', index_col = 0)"
   ]
  },
  {
   "cell_type": "code",
   "execution_count": 40,
   "metadata": {},
   "outputs": [],
   "source": [
    "my_followers = my_followers.rename(columns={'0': 'followers'})"
   ]
  },
  {
   "cell_type": "code",
   "execution_count": 42,
   "metadata": {},
   "outputs": [
    {
     "data": {
      "text/plain": [
       "'SCGWalker'"
      ]
     },
     "execution_count": 42,
     "metadata": {},
     "output_type": "execute_result"
    }
   ],
   "source": [
    "my_followers['followers'][0]"
   ]
  },
  {
   "cell_type": "code",
   "execution_count": 6,
   "metadata": {},
   "outputs": [
    {
     "name": "stdout",
     "output_type": "stream",
     "text": [
      "Unnamed: 0\n",
      "0\n"
     ]
    }
   ],
   "source": [
    "for follower in my_followers:\n",
    "    print(follower)"
   ]
  },
  {
   "cell_type": "code",
   "execution_count": 53,
   "metadata": {},
   "outputs": [
    {
     "name": "stdout",
     "output_type": "stream",
     "text": [
      "['https://pbs.twimg.com/profile_images/893494961366118400/Bi95bJ3r_400x400.jpg']\n"
     ]
    }
   ],
   "source": [
    "import re\n",
    "pattern = re.compile(\"h.*g\")\n",
    "result = pattern.findall('<img alt=\"\" draggable=\"true\" src=\"https://pbs.twimg.com/profile_images/893494961366118400/Bi95bJ3r_400x400.jpg\" class=\"css-9pa8cd\">')\n",
    "print(result)\n"
   ]
  },
  {
   "cell_type": "code",
   "execution_count": 61,
   "metadata": {},
   "outputs": [
    {
     "name": "stdout",
     "output_type": "stream",
     "text": [
      "Collecting selenium\n",
      "  Downloading selenium-3.141.0-py2.py3-none-any.whl (904 kB)\n",
      "Requirement already satisfied: urllib3 in c:\\users\\sambe\\anaconda3\\lib\\site-packages (from selenium) (1.25.8)\n",
      "Installing collected packages: selenium\n",
      "Successfully installed selenium-3.141.0\n"
     ]
    }
   ],
   "source": [
    "!pip install selenium"
   ]
  },
  {
   "cell_type": "code",
   "execution_count": 102,
   "metadata": {},
   "outputs": [
    {
     "name": "stdout",
     "output_type": "stream",
     "text": [
      "https://twitter.com/JD_ComicNerd89/photo\n"
     ]
    }
   ],
   "source": [
    "print('https://twitter.com/' + follower + '/photo')"
   ]
  },
  {
   "cell_type": "code",
   "execution_count": 109,
   "metadata": {},
   "outputs": [
    {
     "data": {
      "text/plain": [
       "['SCGWalker', 'DoXBookChat', 'azizdraim']"
      ]
     },
     "execution_count": 109,
     "metadata": {},
     "output_type": "execute_result"
    }
   ],
   "source": [
    "my_followers[0:3]"
   ]
  },
  {
   "cell_type": "code",
   "execution_count": 110,
   "metadata": {},
   "outputs": [
    {
     "data": {
      "text/plain": [
       "[['https://pbs.twimg.com/profile_images/1215514540021932032/s1W81Kan_400x400.jpg'],\n",
       " ['https://pbs.twimg.com/profile_images/1232298147864510464/pZNpQVhR_400x400.jpg'],\n",
       " []]"
      ]
     },
     "execution_count": 110,
     "metadata": {},
     "output_type": "execute_result"
    }
   ],
   "source": [
    "picture_urls[0:3]"
   ]
  },
  {
   "cell_type": "code",
   "execution_count": 114,
   "metadata": {},
   "outputs": [],
   "source": [
    "result = None"
   ]
  },
  {
   "cell_type": "code",
   "execution_count": 122,
   "metadata": {},
   "outputs": [
    {
     "data": {
      "text/plain": [
       "'SCGWalker'"
      ]
     },
     "execution_count": 122,
     "metadata": {},
     "output_type": "execute_result"
    }
   ],
   "source": [
    "my_followers[0]"
   ]
  },
  {
   "cell_type": "code",
   "execution_count": 125,
   "metadata": {},
   "outputs": [
    {
     "data": {
      "text/plain": [
       "<html><head></head><body></body></html>"
      ]
     },
     "execution_count": 125,
     "metadata": {},
     "output_type": "execute_result"
    }
   ],
   "source": [
    "new_picture_urls = []\n",
    "\n",
    "options = webdriver.ChromeOptions()\n",
    "options.add_argument('headless')\n",
    "capa = DesiredCapabilities.CHROME\n",
    "capa[\"pageLoadStrategy\"] = \"none\"\n",
    "driver = webdriver.Chrome(options=options, desired_capabilities=capa)\n",
    "driver.set_window_size(1440,900)\n",
    "driver.get('https://twitter.com/' + my_followers[0] + '/photo')\n",
    "# print('getting user #' + str(i) + \"'s photo url!\")\n",
    "# time.sleep(15)\n",
    "   \n",
    "plain_text = driver.page_source\n",
    "new_soup = BeautifulSoup(plain_text, 'lxml')\n",
    "new_soup\n",
    "# pattern = re.compile('draggable=\"true\" src=\"(.*).+?(?=\\/>)')\n",
    "# result = pattern.findall(str(new_soup))\n",
    "# print(result)\n",
    "# result = result[0]\n",
    "# print(result)\n",
    "# new_pattern = re.compile('(^.*.jpg)')\n",
    "# new_result = new_pattern.findall(str(result))\n",
    "# print(new_result)\n",
    "# new_picture_urls.append(new_result)\n",
    "# i+=1"
   ]
  },
  {
   "cell_type": "code",
   "execution_count": 106,
   "metadata": {},
   "outputs": [
    {
     "name": "stderr",
     "output_type": "stream",
     "text": [
      "C:\\Users\\sambe\\anaconda3\\lib\\site-packages\\ipykernel_launcher.py:16: DeprecationWarning: use options instead of chrome_options\n",
      "  app.launch_new_instance()\n"
     ]
    },
    {
     "name": "stdout",
     "output_type": "stream",
     "text": [
      "getting user #1's photo url!\n",
      "getting user #2's photo url!\n",
      "getting user #3's photo url!\n",
      "getting user #4's photo url!\n",
      "getting user #5's photo url!\n",
      "getting user #6's photo url!\n",
      "getting user #7's photo url!\n",
      "getting user #8's photo url!\n",
      "getting user #9's photo url!\n",
      "getting user #10's photo url!\n",
      "getting user #11's photo url!\n",
      "getting user #12's photo url!\n",
      "getting user #13's photo url!\n",
      "getting user #14's photo url!\n",
      "getting user #15's photo url!\n",
      "getting user #16's photo url!\n",
      "getting user #17's photo url!\n",
      "getting user #18's photo url!\n",
      "getting user #19's photo url!\n",
      "getting user #20's photo url!\n",
      "getting user #21's photo url!\n",
      "getting user #22's photo url!\n",
      "getting user #23's photo url!\n",
      "getting user #24's photo url!\n",
      "getting user #25's photo url!\n",
      "getting user #26's photo url!\n",
      "getting user #27's photo url!\n",
      "getting user #28's photo url!\n",
      "getting user #29's photo url!\n",
      "getting user #30's photo url!\n",
      "getting user #31's photo url!\n",
      "getting user #32's photo url!\n",
      "getting user #33's photo url!\n",
      "getting user #34's photo url!\n",
      "getting user #35's photo url!\n",
      "getting user #36's photo url!\n",
      "getting user #37's photo url!\n",
      "getting user #38's photo url!\n",
      "getting user #39's photo url!\n",
      "getting user #40's photo url!\n",
      "getting user #41's photo url!\n",
      "getting user #42's photo url!\n",
      "getting user #43's photo url!\n",
      "getting user #44's photo url!\n",
      "getting user #45's photo url!\n",
      "getting user #46's photo url!\n",
      "getting user #47's photo url!\n",
      "getting user #48's photo url!\n",
      "getting user #49's photo url!\n",
      "getting user #50's photo url!\n",
      "getting user #51's photo url!\n",
      "getting user #52's photo url!\n",
      "getting user #53's photo url!\n",
      "getting user #54's photo url!\n"
     ]
    },
    {
     "ename": "IndexError",
     "evalue": "list index out of range",
     "output_type": "error",
     "traceback": [
      "\u001b[1;31m---------------------------------------------------------------------------\u001b[0m",
      "\u001b[1;31mIndexError\u001b[0m                                Traceback (most recent call last)",
      "\u001b[1;32m<ipython-input-106-4995e6b3daa1>\u001b[0m in \u001b[0;36m<module>\u001b[1;34m\u001b[0m\n\u001b[0;32m     24\u001b[0m     \u001b[0mpattern\u001b[0m \u001b[1;33m=\u001b[0m \u001b[0mre\u001b[0m\u001b[1;33m.\u001b[0m\u001b[0mcompile\u001b[0m\u001b[1;33m(\u001b[0m\u001b[1;34m'draggable=\"true\" src=\"(.*).+?(?=\\/>)'\u001b[0m\u001b[1;33m)\u001b[0m\u001b[1;33m\u001b[0m\u001b[1;33m\u001b[0m\u001b[0m\n\u001b[0;32m     25\u001b[0m     \u001b[0mresult\u001b[0m \u001b[1;33m=\u001b[0m \u001b[0mpattern\u001b[0m\u001b[1;33m.\u001b[0m\u001b[0mfindall\u001b[0m\u001b[1;33m(\u001b[0m\u001b[0mstr\u001b[0m\u001b[1;33m(\u001b[0m\u001b[0mnew_soup\u001b[0m\u001b[1;33m)\u001b[0m\u001b[1;33m)\u001b[0m\u001b[1;33m\u001b[0m\u001b[1;33m\u001b[0m\u001b[0m\n\u001b[1;32m---> 26\u001b[1;33m     \u001b[0mresult\u001b[0m \u001b[1;33m=\u001b[0m \u001b[0mresult\u001b[0m\u001b[1;33m[\u001b[0m\u001b[1;36m0\u001b[0m\u001b[1;33m]\u001b[0m\u001b[1;33m\u001b[0m\u001b[1;33m\u001b[0m\u001b[0m\n\u001b[0m\u001b[0;32m     27\u001b[0m     \u001b[0mnew_pattern\u001b[0m \u001b[1;33m=\u001b[0m \u001b[0mre\u001b[0m\u001b[1;33m.\u001b[0m\u001b[0mcompile\u001b[0m\u001b[1;33m(\u001b[0m\u001b[1;34m'(^.*.jpg)'\u001b[0m\u001b[1;33m)\u001b[0m\u001b[1;33m\u001b[0m\u001b[1;33m\u001b[0m\u001b[0m\n\u001b[0;32m     28\u001b[0m     \u001b[0mnew_result\u001b[0m \u001b[1;33m=\u001b[0m \u001b[0mnew_pattern\u001b[0m\u001b[1;33m.\u001b[0m\u001b[0mfindall\u001b[0m\u001b[1;33m(\u001b[0m\u001b[0mstr\u001b[0m\u001b[1;33m(\u001b[0m\u001b[0mresult\u001b[0m\u001b[1;33m)\u001b[0m\u001b[1;33m)\u001b[0m\u001b[1;33m\u001b[0m\u001b[1;33m\u001b[0m\u001b[0m\n",
      "\u001b[1;31mIndexError\u001b[0m: list index out of range"
     ]
    }
   ],
   "source": [
    "import requests\n",
    "from bs4 import BeautifulSoup\n",
    "from selenium import webdriver\n",
    "from selenium.webdriver.common.desired_capabilities import DesiredCapabilities\n",
    "import time\n",
    "\n",
    "picture_urls = []\n",
    "i = 1\n",
    "\n",
    "# source_code = requests.get('http://fantasy.espn.com/basketball/league/standings?leagueId=633975')\n",
    "for follower in my_followers:\n",
    "    options = webdriver.ChromeOptions()\n",
    "    options.add_argument('headless')\n",
    "    capa = DesiredCapabilities.CHROME\n",
    "    capa[\"pageLoadStrategy\"] = \"none\"\n",
    "    driver = webdriver.Chrome(chrome_options=options, desired_capabilities=capa)\n",
    "    driver.set_window_size(1440,900)\n",
    "    driver.get('https://twitter.com/' + follower + '/photo')\n",
    "    print('getting user #' + str(i) + \"'s photo url!\")\n",
    "    time.sleep(15)\n",
    "    \n",
    "    plain_text = driver.page_source\n",
    "    new_soup = BeautifulSoup(plain_text, 'lxml')\n",
    "    pattern = re.compile('draggable=\"true\" src=\"(.*).+?(?=\\/>)')\n",
    "    result = pattern.findall(str(new_soup))\n",
    "    result = result[0]\n",
    "    new_pattern = re.compile('(^.*.jpg)')\n",
    "    new_result = new_pattern.findall(str(result))\n",
    "    picture_urls.append(new_result)\n",
    "    i+=1\n",
    "\n",
    "# soup.select('.Table2__header-row') # Returns full results.\n",
    "\n",
    "# len(soup.select('.Table2__header-row'))"
   ]
  },
  {
   "cell_type": "code",
   "execution_count": 107,
   "metadata": {},
   "outputs": [
    {
     "data": {
      "text/plain": [
       "[['https://pbs.twimg.com/profile_images/1215514540021932032/s1W81Kan_400x400.jpg'],\n",
       " ['https://pbs.twimg.com/profile_images/1232298147864510464/pZNpQVhR_400x400.jpg'],\n",
       " [],\n",
       " ['https://pbs.twimg.com/profile_images/1235491075546021889/-bwlS5UB_400x400.jpg'],\n",
       " ['https://pbs.twimg.com/profile_images/1273661017676042241/K1QX8Zii_400x400.jpg'],\n",
       " ['https://pbs.twimg.com/profile_images/624042272825278465/eWqIvP7H_400x400.jpg'],\n",
       " ['https://pbs.twimg.com/profile_images/1268192116318048256/74wibZ45_400x400.jpg'],\n",
       " ['https://pbs.twimg.com/profile_images/736255138130735104/UfLBjLvI_400x400.jpg'],\n",
       " ['https://pbs.twimg.com/profile_images/1173893581032980480/LH__2MJT_400x400.jpg'],\n",
       " ['https://pbs.twimg.com/profile_images/882632843339366401/8fgT5tV0_400x400.jpg'],\n",
       " [],\n",
       " ['https://pbs.twimg.com/profile_images/1273191976247201792/Ir_AZ_8K_400x400.jpg'],\n",
       " ['https://pbs.twimg.com/profile_images/1272644077130039299/t88dHMwM_400x400.jpg'],\n",
       " ['https://pbs.twimg.com/profile_images/1272606621705875457/sXElmmLk_400x400.jpg'],\n",
       " ['https://pbs.twimg.com/profile_images/984865513963769856/dVKwA_y4_400x400.jpg'],\n",
       " ['https://pbs.twimg.com/profile_images/52769668/Me_yelling_400x400.jpg'],\n",
       " ['https://pbs.twimg.com/profile_images/1249300345303511041/n23Pyb-s_400x400.jpg'],\n",
       " [],\n",
       " ['https://pbs.twimg.com/profile_images/1125333763/LeoAvatar_400x400.jpg'],\n",
       " ['https://pbs.twimg.com/profile_images/1257634772756594689/a258t8_h_400x400.jpg'],\n",
       " ['https://pbs.twimg.com/profile_images/1214737103474561024/HZlPQmhS_400x400.jpg'],\n",
       " ['https://pbs.twimg.com/profile_images/1268240338017230855/4L0pFBkk_400x400.jpg'],\n",
       " ['https://pbs.twimg.com/profile_images/1264878216516435968/qJEEY9J__400x400.jpg'],\n",
       " [],\n",
       " ['https://pbs.twimg.com/profile_images/1256580478284505089/4Co11OW__400x400.jpg'],\n",
       " ['https://pbs.twimg.com/profile_images/1247960966647541761/zt3sBi7x_400x400.jpg'],\n",
       " ['https://pbs.twimg.com/profile_images/1189671873853960192/lyhI0YFH_400x400.jpg'],\n",
       " ['https://pbs.twimg.com/profile_images/1050299525418676229/5K0sUi84_400x400.jpg'],\n",
       " ['https://pbs.twimg.com/profile_images/1272358334654537730/3vQjivgl_400x400.jpg'],\n",
       " ['https://pbs.twimg.com/profile_images/1242106899211988992/TYDkMuIx_400x400.jpg'],\n",
       " ['https://pbs.twimg.com/profile_images/1220593246625157122/1iSJINsT_400x400.jpg'],\n",
       " ['https://pbs.twimg.com/profile_images/1271147930850930688/4Peos4qU_400x400.jpg'],\n",
       " [],\n",
       " ['https://pbs.twimg.com/profile_images/1270035261313839107/Kmo-2qUO_400x400.jpg'],\n",
       " ['https://pbs.twimg.com/profile_images/784422136291090433/Nk5BHgjQ_400x400.jpg'],\n",
       " ['https://pbs.twimg.com/profile_images/831912105955753984/aV1_KPdU_400x400.jpg'],\n",
       " ['https://pbs.twimg.com/profile_images/1274133916442660866/pFcsBQZ2_400x400.jpg'],\n",
       " ['https://pbs.twimg.com/profile_images/1169141329647063041/ZWpedIuz_400x400.jpg'],\n",
       " ['https://pbs.twimg.com/profile_images/1270101782635651074/s0f-m70N_400x400.jpg'],\n",
       " ['https://pbs.twimg.com/profile_images/1230459278923792384/YtrxTQ6r_400x400.jpg'],\n",
       " ['https://pbs.twimg.com/profile_images/1047837740736425984/8B4F-YQH_400x400.jpg'],\n",
       " ['https://pbs.twimg.com/profile_images/1254411344008249345/MmUtmzRg_400x400.jpg'],\n",
       " ['https://pbs.twimg.com/profile_images/1270089237791113225/sZQStWmU_400x400.jpg'],\n",
       " ['https://pbs.twimg.com/profile_images/1241365201913552896/Tdp_EDIV_400x400.jpg'],\n",
       " ['https://pbs.twimg.com/profile_images/1267168212573184001/wHGiCPWc_400x400.jpg'],\n",
       " [],\n",
       " [],\n",
       " ['https://pbs.twimg.com/profile_images/1132346996700917760/BFhkR8Yf_400x400.jpg'],\n",
       " ['https://pbs.twimg.com/profile_images/893494961366118400/Bi95bJ3r_400x400.jpg'],\n",
       " ['https://pbs.twimg.com/profile_images/1242570907085832194/vAVhb7Tg_400x400.jpg'],\n",
       " ['https://pbs.twimg.com/profile_images/1257274042194657280/9witGJHZ_400x400.jpg'],\n",
       " ['https://pbs.twimg.com/profile_images/777868533384507392/iGheS4a1_400x400.jpg'],\n",
       " ['https://pbs.twimg.com/profile_images/1060818458403893249/DHXG8N6q_400x400.jpg']]"
      ]
     },
     "execution_count": 107,
     "metadata": {},
     "output_type": "execute_result"
    }
   ],
   "source": [
    "picture_urls"
   ]
  },
  {
   "cell_type": "code",
   "execution_count": 126,
   "metadata": {},
   "outputs": [
    {
     "data": {
      "text/plain": [
       "'<html>\\n <head>\\n </head>\\n <body>\\n </body>\\n</html>'"
      ]
     },
     "execution_count": 126,
     "metadata": {},
     "output_type": "execute_result"
    }
   ],
   "source": [
    "new_soup.prettify()"
   ]
  },
  {
   "cell_type": "code",
   "execution_count": 91,
   "metadata": {},
   "outputs": [
    {
     "name": "stdout",
     "output_type": "stream",
     "text": [
      "['https://pbs.twimg.com/profile_images/893494961366118400/Bi95bJ3r_400x400.jpg']\n"
     ]
    }
   ],
   "source": [
    "pattern = re.compile('draggable=\"true\" src=\"(.*).+?(?=\\/>)')\n",
    "result = pattern.findall(str(new_soup))\n",
    "result = result[0]\n",
    "new_pattern = re.compile('(^.*.jpg)')\n",
    "new_result = new_pattern.findall(str(result))\n",
    "print(new_result)"
   ]
  },
  {
   "cell_type": "code",
   "execution_count": null,
   "metadata": {},
   "outputs": [],
   "source": [
    "for follower in my_followers:\n",
    "    \n",
    "        #buffer\n",
    "        site = 'https://twitter.com/' + follower + '/photo'\n",
    "        hdr = {'User-Agent': rand_user_agent()}\n",
    "        req = Request(site,headers=hdr)\n",
    "        page = urlopen(req)\n",
    "        \n",
    "        #notifications of progress\n",
    "        print('scraping ' + site)\n",
    "        \n",
    "        #non-existing page \n",
    "        status_code = page.getcode()\n",
    "        if status_code != 200:\n",
    "            continue\n",
    "        soup = BeautifulSoup(page)\n",
    "        \n",
    "        #Scrape summaries\n",
    "        pic_urls = []\n",
    "        \n",
    "        scraped_summary = soup.findAll('src')\n",
    "        if scraped_summary == []:\n",
    "            temp_summary = 'null'\n",
    "            pass\n",
    "        else:\n",
    "            scraped_summary = re.findall('b_expanded\">(.*)\\n.', str(scraped_summary))\n",
    "            scraped_summary1 = re.findall(\"'(.*).r<br\\/>\\s\", str(scraped_summary))\n",
    "            try:\n",
    "                temp_summary.append(scraped_summary1[0])\n",
    "            except IndexError:\n",
    "                pass\n",
    "            scraped_summary2 = re.findall('\\s<br\\/>(.*)<\\/span><s', str(scraped_summary))\n",
    "            try:\n",
    "                temp_summary.append(scraped_summary2[0])\n",
    "            except IndexError:\n",
    "                pass\n",
    "            temp_summary = \" \".join(temp_summary)\n",
    "        summary.append(temp_summary)\n",
    "        \n",
    "        print(\"sleeping for \" + str(nap) + \" seconds\")\n",
    "        time.sleep(nap)\n",
    "        print(\"awake!\")\n",
    "            \n",
    "print('scraping complete!')\n",
    "\n",
    "# Compile data into dataframe   \n",
    "sampledf['summary'] = summary\n",
    "\n",
    "https://twitter.com/Screen Name/photo"
   ]
  },
  {
   "cell_type": "code",
   "execution_count": null,
   "metadata": {},
   "outputs": [],
   "source": []
  }
 ],
 "metadata": {
  "kernelspec": {
   "display_name": "Python 3",
   "language": "python",
   "name": "python3"
  },
  "language_info": {
   "codemirror_mode": {
    "name": "ipython",
    "version": 3
   },
   "file_extension": ".py",
   "mimetype": "text/x-python",
   "name": "python",
   "nbconvert_exporter": "python",
   "pygments_lexer": "ipython3",
   "version": "3.7.6"
  }
 },
 "nbformat": 4,
 "nbformat_minor": 4
}
