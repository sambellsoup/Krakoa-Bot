{
 "cells": [
  {
   "cell_type": "code",
   "execution_count": 1,
   "metadata": {},
   "outputs": [],
   "source": [
    "import pickle"
   ]
  },
  {
   "cell_type": "code",
   "execution_count": null,
   "metadata": {},
   "outputs": [],
   "source": []
  },
  {
   "cell_type": "code",
   "execution_count": null,
   "metadata": {},
   "outputs": [],
   "source": []
  },
  {
   "cell_type": "code",
   "execution_count": null,
   "metadata": {},
   "outputs": [],
   "source": [
    "# Import Tweepy\n",
    "import tweepy\n",
    "\n",
    "# Set Authentication Credentials\n",
    "auth = tweepy.OAuthHandler(\"CONSUMER_KEY\", \"CONSUMER_SECRET\")\n",
    "auth.set_access_token(\"ACCESS_TOKEN\", \"ACCESS_TOKEN_SECRET\")\n",
    "\n",
    "# Create API Object\n",
    "api = tweepy.API(auth)\n",
    "\n",
    "# Creates a new tweet\n",
    "# .update_status(\"Tweet\")\n",
    "\n",
    "api.update_status(\"ACAB\")\n",
    "\n",
    "# Retweet that Tweet!\n",
    "\n",
    "# Tweepy provides HTTP endpoints for:\n",
    "# Tweets\n",
    "# Retweets\n",
    "# Likes\n",
    "# Direct messages\n",
    "# Favorites\n",
    "# Trends\n",
    "# Media"
   ]
  },
  {
   "cell_type": "code",
   "execution_count": null,
   "metadata": {},
   "outputs": [],
   "source": [
    "# Tweepy requires that all requests use OAuth to authenticate. \n",
    "# So you need to create the required authentication credentials to be able to use the API. \n",
    "\n",
    "# These credentials are four text strings:\n",
    "\n",
    "# Consumer key\n",
    "# Consumer secret\n",
    "# Access token\n",
    "# Access secret"
   ]
  },
  {
   "cell_type": "code",
   "execution_count": null,
   "metadata": {},
   "outputs": [],
   "source": []
  }
 ],
 "metadata": {
  "kernelspec": {
   "display_name": "Python 3",
   "language": "python",
   "name": "python3"
  },
  "language_info": {
   "codemirror_mode": {
    "name": "ipython",
    "version": 3
   },
   "file_extension": ".py",
   "mimetype": "text/x-python",
   "name": "python",
   "nbconvert_exporter": "python",
   "pygments_lexer": "ipython3",
   "version": "3.7.6"
  }
 },
 "nbformat": 4,
 "nbformat_minor": 4
}
